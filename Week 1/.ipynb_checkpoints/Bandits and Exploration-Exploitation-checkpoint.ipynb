{
 "cells": [
  {
   "cell_type": "markdown",
   "metadata": {},
   "source": [
    "# Section 0: Preliminaries\n",
    "All the required libraries are imported in the cell below.\n",
    "\n",
    "   The ten armed bandit enviroment will be used for this assignment. 10-armed test bed was introduced in in section 2.3 of S&B's Intro to RL. It has 10 arms, which are the actions the agent can take. Pulling an arm generates a stochastic reward from a Gaussian distribution with unit variance. For each action, the expected value of that action in randomly sampled from a normal distribution, at the start of each run.   "
   ]
  },
  {
   "cell_type": "code",
   "execution_count": 1,
   "metadata": {},
   "outputs": [],
   "source": [
    "%matplotlib inline\n",
    "import numpy as np\n",
    "import matplotlib.pyplot as plt\n",
    "from rl_glue import RLGlue\n",
    "import main_agent\n",
    "import ten_arm_env\n",
    "import test_env\n",
    "from tqdm import tqdm\n",
    "import time"
   ]
  },
  {
   "cell_type": "markdown",
   "metadata": {},
   "source": [
    "# Section 1: Greedy Agent\n",
    "Our objective is to create an agent that will find the action with highest expected reward. One way the agent could operate is to always choose the action with the value based on the agent's current estimates. An agent that chooses such action is called as a greedy agent."
   ]
  },
  {
   "cell_type": "markdown",
   "metadata": {},
   "source": [
    "### Argmax\n"
   ]
  },
  {
   "cell_type": "code",
   "execution_count": 2,
   "metadata": {},
   "outputs": [],
   "source": [
    "def argmax(q_values):\n",
    "    top = float(\"-inf\")\n",
    "    ties = []\n",
    "    \n",
    "    for i in range(len(q_values)):\n",
    "        if q_values[i] > top:\n",
    "            top = q_values[i]\n",
    "            ties = [i]\n",
    "        elif q_values[i] == top:\n",
    "            ties.append(i)\n",
    "            \n",
    "    return ties[np.random.choice(len(ties))]"
   ]
  },
  {
   "cell_type": "code",
   "execution_count": 3,
   "metadata": {},
   "outputs": [],
   "source": [
    "test_array = [0, 0, 0, 0, 0, 0, 0, 0, 1, 0]\n",
    "assert argmax(test_array) == 8\n",
    "\n",
    "test_array = [1, 0, 0, 1]\n",
    "total = 0\n",
    "\n",
    "for i in range(100):\n",
    "    total += argmax(test_array)\n",
    "\n",
    "assert total > 0\n",
    "assert total != 300"
   ]
  },
  {
   "cell_type": "code",
   "execution_count": 4,
   "metadata": {},
   "outputs": [
    {
     "data": {
      "text/plain": [
       "150"
      ]
     },
     "execution_count": 4,
     "metadata": {},
     "output_type": "execute_result"
    }
   ],
   "source": [
    "def test_argmax():\n",
    "    test_array = [1, 0, 0, 1]\n",
    "    total = 0\n",
    "    for i in range(100):\n",
    "        total += argmax(test_array)\n",
    "        \n",
    "    np.save(\"argmax_test\", total)\n",
    "    return total\n",
    "test_argmax()"
   ]
  },
  {
   "cell_type": "code",
   "execution_count": 5,
   "metadata": {},
   "outputs": [],
   "source": [
    "class GreedyAgent(main_agent.Agent):\n",
    "    def agent_step(self, reward, observation):\n",
    "        current_action = argmax(self.q_values)\n",
    "        self.arm_count[self.last_action] += 1\n",
    "        step_size = 1 / self.arm_count[self.last_action]\n",
    "        old_estimate = self.q_values[self.last_action]\n",
    "        self.q_values[self.last_action] = old_estimate + step_size * (reward - old_estimate)\n",
    "        \n",
    "        self.last_action = current_action\n",
    "        \n",
    "        return current_action"
   ]
  },
  {
   "cell_type": "code",
   "execution_count": 6,
   "metadata": {},
   "outputs": [
    {
     "name": "stdout",
     "output_type": "stream",
     "text": [
      "Output:\n",
      "[0, 0.5, 1.0, 0, 0]\n",
      "Expected Output:\n",
      "[0, 0.5, 1.0, 0, 0]\n"
     ]
    }
   ],
   "source": [
    "greedy_agent = GreedyAgent()\n",
    "greedy_agent.q_values = [0, 0, 1.0, 0, 0]\n",
    "greedy_agent.arm_count = [0, 1, 0, 0, 0]\n",
    "greedy_agent.last_action = 1\n",
    "action = greedy_agent.agent_step(1, 0)\n",
    "np.save(\"greedy_test\", greedy_agent.q_values)\n",
    "print(\"Output:\")\n",
    "print(greedy_agent.q_values)\n",
    "print(\"Expected Output:\")\n",
    "print([0, 0.5, 1.0, 0, 0])\n",
    "\n",
    "assert action == 2\n",
    "assert greedy_agent.q_values == [0, 0.5, 1.0, 0, 0]"
   ]
  },
  {
   "cell_type": "code",
   "execution_count": 7,
   "metadata": {},
   "outputs": [
    {
     "name": "stderr",
     "output_type": "stream",
     "text": [
      "100%|██████████| 200/200 [00:05<00:00, 34.52it/s]\n"
     ]
    },
    {
     "data": {
      "image/png": "[encoded data removed]",
      "text/plain": [
       "<Figure size 1200x400 with 1 Axes>"
      ]
     },
     "metadata": {},
     "output_type": "display_data"
    }
   ],
   "source": [
    "\n",
    "\n",
    "# Plot Greedy Result\n",
    "num_runs = 200                    # The number of times we run the experiment\n",
    "num_steps = 1000                  # The number of steps each experiment is run for\n",
    "env = ten_arm_env.Environment     # We the environment to use\n",
    "agent = GreedyAgent               # We choose what agent we want to use\n",
    "agent_info = {\"num_actions\": 10}  # Pass the agent the information it needs; \n",
    "                                  # here it just needs the number of actions (number of arms).\n",
    "env_info = {}                     # Pass the environment the information it needs; in this case, it is nothing.\n",
    "\n",
    "all_averages = []\n",
    "\n",
    "for i in tqdm(range(num_runs)):           # tqdm is what creates the progress bar below once the code is run\n",
    "    rl_glue = RLGlue(env, agent)          # Creates a new RLGlue experiment with the env and agent we chose above\n",
    "    rl_glue.rl_init(agent_info, env_info) # Pass RLGlue what it needs to initialize the agent and environment\n",
    "    rl_glue.rl_start()                    # Start the experiment\n",
    "\n",
    "    scores = [0]\n",
    "    averages = []\n",
    "    \n",
    "    for i in range(num_steps):\n",
    "        reward, _, action, _ = rl_glue.rl_step() # The environment and agent take a step and return\n",
    "                                                 # the reward, and action taken.\n",
    "        scores.append(scores[-1] + reward)\n",
    "        averages.append(scores[-1] / (i + 1))\n",
    "    all_averages.append(averages)\n",
    "\n",
    "plt.figure(figsize=(15, 5), dpi= 80, facecolor='w', edgecolor='k')\n",
    "plt.plot([1.55 for _ in range(num_steps)], linestyle=\"--\")\n",
    "plt.plot(np.mean(all_averages, axis=0))\n",
    "plt.legend([\"Best Possible\", \"Greedy\"])\n",
    "plt.title(\"Average Reward of Greedy Agent\")\n",
    "plt.xlabel(\"Steps\")\n",
    "plt.ylabel(\"Average reward\")\n",
    "plt.show()\n",
    "greedy_scores = np.mean(all_averages, axis=0)\n",
    "np.save(\"greedy_scores\", greedy_scores)\n",
    "\n"
   ]
  },
  {
   "cell_type": "code",
   "execution_count": null,
   "metadata": {},
   "outputs": [],
   "source": []
  }
 ],
 "metadata": {
  "kernelspec": {
   "display_name": "Python [conda env:.conda-torch] *",
   "language": "python",
   "name": "conda-env-.conda-torch-py"
  },
  "language_info": {
   "codemirror_mode": {
    "name": "ipython",
    "version": 3
   },
   "file_extension": ".py",
   "mimetype": "text/x-python",
   "name": "python",
   "nbconvert_exporter": "python",
   "pygments_lexer": "ipython3",
   "version": "3.7.9"
  }
 },
 "nbformat": 4,
 "nbformat_minor": 4
}
