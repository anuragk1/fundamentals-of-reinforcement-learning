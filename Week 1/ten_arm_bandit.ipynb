{
 "cells": [
  {
   "cell_type": "code",
   "execution_count": 1,
   "metadata": {},
   "outputs": [],
   "source": [
    "import numpy as np\n",
    "import matplotlib.pyplot as plt"
   ]
  },
  {
   "cell_type": "code",
   "execution_count": 2,
   "metadata": {},
   "outputs": [],
   "source": [
    "def randomWalk(x): \n",
    "    # x is a vector, each element takes a random walk independtly,\n",
    "    # this function retruns a new vector where each element takes a step by the rule of random walk\n",
    "    \n",
    "    dim = np.size(x)\n",
    "    walk_set = [-1, 1, 0]\n",
    "    for i in range(dim):\n",
    "        x[i] = x[i] + np.random.choice(walk_set)\n",
    "        \n",
    "    return x"
   ]
  },
  {
   "cell_type": "code",
   "execution_count": 3,
   "metadata": {},
   "outputs": [],
   "source": [
    "def epsGreedy(epsilon, Q):\n",
    "    # This function returns an action chosen by epsilon greedy algorithm givent the current action value estimate is Q\n",
    "    i = np.argmax(Q)\n",
    "    dim = np.size(Q)\n",
    "    actionSpace = range(0, dim, 1)\n",
    "    sample = np.random.uniform(0, 1)\n",
    "    \n",
    "    if sample <= 1 - epsilon:\n",
    "        return i\n",
    "    else:\n",
    "        np.delete(actionSpace, i)\n",
    "        return np.random.choice(actionSpace)"
   ]
  },
  {
   "cell_type": "code",
   "execution_count": 8,
   "metadata": {},
   "outputs": [],
   "source": [
    "def multiTask(maxIter, taskNumber, epsilon, armNumber, stepSize):\n",
    "    rows, cols = taskNumber, armNumber\n",
    "    myMatrix = np.array([([0]*cols) for i in range(rows)])\n",
    "    constQ = np.array([([0]*cols) for i in range(rows)])\n",
    "    variaQ = np.array([([0]*cols) for i in range(rows)])\n",
    "    q=np.array([([0]*cols) for i in range(rows)])\n",
    "    constN = np.array( [([0]*cols) for i in range(rows)])\n",
    "    variaN = np.array( [([0]*cols) for i in range(rows)])\n",
    "    constR = np.zeros(maxIter)\n",
    "    variaR = np.zeros(maxIter)\n",
    "    \n",
    "    for i in range(maxIter):\n",
    "        for j in range(taskNumber):\n",
    "            # Random walk for each arm\n",
    "            taskQ = q[j, :]\n",
    "            taskQ = randomWalk(taskQ)\n",
    "            q[j, :] = taskQ\n",
    "            \n",
    "            # Constant Stepsize\n",
    "            taskConstQ = constQ[j,:]\n",
    "            taskConstN = constN[j,:]\n",
    "            actionConst = epsGreedy(epsilon, taskConstQ)\n",
    "            \n",
    "            rewardConst = taskQ[actionConst]\n",
    "            constR[i] = constR[i] + rewardConst\n",
    "            taskConstN[actionConst] = taskConstN[actionConst] + 1\n",
    "            alpha = stepSize\n",
    "            difference = rewardConst - taskConstQ[actionConst]\n",
    "            taskConstQ[actionConst] = taskConstQ[actionConst] + alpha * difference\n",
    "            constQ[j,:] = taskConstQ\n",
    "            constN[j,:] = taskConstN\n",
    "            \n",
    "            taskVariaQ = variaQ[j,:]\n",
    "            taskVariaN = variaN[j,:]\n",
    "            actionVaria = epsGreedy(epsilon, taskVariaQ)\n",
    "            rewardVaria = taskQ[actionVaria]\n",
    "            taskVariaN[actionVaria] = taskVariaN[actionVaria] + 1\n",
    "            \n",
    "            if i == 0:\n",
    "                beta = 1\n",
    "            else:\n",
    "                beta = 1 / taskVariaN[actionVaria]\n",
    "            taskVariaQ[actionVaria] = taskVariaQ[actionVaria] + beta * (rewardVaria-taskVariaQ[actionVaria])\n",
    "            \n",
    "            variaN[j,:] = taskVariaN\n",
    "            variaQ[j,:] = taskVariaQ\n",
    "            variaR[i] = variaR[i] + rewardVaria\n",
    "        variaR[i] = variaR[i] / taskNumber\n",
    "        constR[i] = constR[i] / taskNumber\n",
    "        \n",
    "    plt.xlabel('Steps')\n",
    "    plt.ylabel('Average Reward')\n",
    "    plt.plot(variaR, color = 'r')\n",
    "    plt.plot(constR, color = 'b')\n",
    "    plt.xticks(np.arange(0, maxIter+1100))\n",
    "    plt.show()\n",
    "    plt.close()\n",
    "    print(q)\n",
    "    print(constQ)\n",
    "    print(variaQ)"
   ]
  },
  {
   "cell_type": "code",
   "execution_count": 9,
   "metadata": {},
   "outputs": [],
   "source": [
    "maxIter = 1000\n",
    "taskNumber = 500\n",
    "epsilon = 0.1\n",
    "armNumber = 10\n",
    "stepSize = 0.1\n"
   ]
  },
  {
   "cell_type": "code",
   "execution_count": 10,
   "metadata": {},
   "outputs": [
    {
     "data": {
      "image/png": "[encoded data removed]",
      "text/plain": [
       "<Figure size 432x288 with 1 Axes>"
      ]
     },
     "metadata": {
      "needs_background": "light"
     },
     "output_type": "display_data"
    },
    {
     "name": "stdout",
     "output_type": "stream",
     "text": [
      "[[ 26  -6   4 ...  30  -8  17]\n",
      " [ 18 -15  23 ... -45   2  30]\n",
      " [ 10  -2 -12 ... -16 -32  27]\n",
      " ...\n",
      " [  7 -29 -24 ...  10  -1 -20]\n",
      " [  6  32  20 ...   3 -39 -54]\n",
      " [-17  33  20 ... -39  -7  26]]\n",
      "[[ 20  -3   2 ...  14  -4   3]\n",
      " [  5  -2   2 ... -19  -1   3]\n",
      " [  9   0  -4 ...  -8 -11  10]\n",
      " ...\n",
      " [  0  -9 -15 ...   0   0  -2]\n",
      " [  3  24  11 ...  -5  -5 -16]\n",
      " [ -3  12  -2 ... -13   0  10]]\n",
      "[[  0  -4   5 ...  19  -6   2]\n",
      " [  0  -8   4 ... -26  -2   3]\n",
      " [  3   1  -4 ...   0 -19  15]\n",
      " ...\n",
      " [  0 -10 -14 ...   0  -4  -8]\n",
      " [  0  18  15 ...  -2 -14 -36]\n",
      " [  0  23 -10 ... -17   0  10]]\n"
     ]
    }
   ],
   "source": [
    "multiTask(maxIter, taskNumber, epsilon, armNumber, stepSize)"
   ]
  },
  {
   "cell_type": "code",
   "execution_count": null,
   "metadata": {},
   "outputs": [],
   "source": []
  }
 ],
 "metadata": {
  "kernelspec": {
   "display_name": "Python 3",
   "language": "python",
   "name": "python3"
  },
  "language_info": {
   "codemirror_mode": {
    "name": "ipython",
    "version": 3
   },
   "file_extension": ".py",
   "mimetype": "text/x-python",
   "name": "python",
   "nbconvert_exporter": "python",
   "pygments_lexer": "ipython3",
   "version": "3.7.9"
  }
 },
 "nbformat": 4,
 "nbformat_minor": 4
}
